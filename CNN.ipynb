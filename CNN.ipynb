{
 "cells": [
  {
   "cell_type": "markdown",
   "metadata": {
    "id": "3DR-eO17geWu"
   },
   "source": [
    "# Convolutional Neural Network"
   ]
  },
  {
   "cell_type": "markdown",
   "metadata": {
    "id": "EMefrVPCg-60"
   },
   "source": [
    "### Importing the libraries"
   ]
  },
  {
   "cell_type": "code",
   "execution_count": 1,
   "metadata": {
    "id": "nAhNWhGdKtGD"
   },
   "outputs": [],
   "source": [
    "import tensorflow as tf\n",
    "from keras.preprocessing.image import ImageDataGenerator"
   ]
  },
  {
   "cell_type": "markdown",
   "metadata": {
    "id": "oxQxCBWyoGPE"
   },
   "source": [
    "## Part 1 - Data Preprocessing"
   ]
  },
  {
   "cell_type": "markdown",
   "metadata": {
    "id": "MvE-heJNo3GG"
   },
   "source": [
    "### Preprocessing the Training set"
   ]
  },
  {
   "cell_type": "code",
   "execution_count": 2,
   "metadata": {
    "id": "RUB6pZfaK-ML"
   },
   "outputs": [
    {
     "name": "stdout",
     "output_type": "stream",
     "text": [
      "Found 8000 images belonging to 2 classes.\n"
     ]
    }
   ],
   "source": [
    "traingen=ImageDataGenerator(rescale=1./255,shear_range=0.2,zoom_range=0.2,horizontal_flip=True)\n",
    "training_set=traingen.flow_from_directory('dataset/training_set',target_size=(64,64),batch_size=32,class_mode='binary')"
   ]
  },
  {
   "cell_type": "markdown",
   "metadata": {
    "id": "mrCMmGw9pHys"
   },
   "source": [
    "### Preprocessing the Test set"
   ]
  },
  {
   "cell_type": "code",
   "execution_count": 3,
   "metadata": {
    "id": "iJotoVmnNGa_"
   },
   "outputs": [
    {
     "name": "stdout",
     "output_type": "stream",
     "text": [
      "Found 2000 images belonging to 2 classes.\n"
     ]
    }
   ],
   "source": [
    "testgen=ImageDataGenerator(rescale=1./255)\n",
    "test_set=testgen.flow_from_directory('dataset/test_set',target_size=(64,64),batch_size=32,class_mode='binary')"
   ]
  },
  {
   "cell_type": "markdown",
   "metadata": {
    "id": "af8O4l90gk7B"
   },
   "source": [
    "## Part 2 - Building the CNN"
   ]
  },
  {
   "cell_type": "markdown",
   "metadata": {
    "id": "ces1gXY2lmoX"
   },
   "source": [
    "### Initialising the CNN"
   ]
  },
  {
   "cell_type": "code",
   "execution_count": 4,
   "metadata": {
    "id": "9TAbS7uLQCF-"
   },
   "outputs": [],
   "source": [
    "cnn=tf.keras.models.Sequential()"
   ]
  },
  {
   "cell_type": "markdown",
   "metadata": {
    "id": "u5YJj_XMl5LF"
   },
   "source": [
    "### Step 1 - Convolution"
   ]
  },
  {
   "cell_type": "code",
   "execution_count": 5,
   "metadata": {
    "id": "hzm55u_mQKGD"
   },
   "outputs": [],
   "source": [
    "cnn.add(tf.keras.layers.Conv2D(filters=30,kernel_size=3,activation='relu',input_shape=[64,64,3]))"
   ]
  },
  {
   "cell_type": "markdown",
   "metadata": {
    "id": "tf87FpvxmNOJ"
   },
   "source": [
    "### Step 2 - Pooling"
   ]
  },
  {
   "cell_type": "code",
   "execution_count": 6,
   "metadata": {
    "id": "160A4in5RmS3"
   },
   "outputs": [],
   "source": [
    "cnn.add(tf.keras.layers.MaxPool2D(pool_size=2,strides=2))"
   ]
  },
  {
   "cell_type": "markdown",
   "metadata": {
    "id": "xaTOgD8rm4mU"
   },
   "source": [
    "### Adding a second convolutional layer"
   ]
  },
  {
   "cell_type": "code",
   "execution_count": 7,
   "metadata": {
    "id": "X9yfNWYtSASb"
   },
   "outputs": [],
   "source": [
    "cnn.add(tf.keras.layers.Conv2D(filters=30,kernel_size=3,activation='relu'))\n",
    "cnn.add(tf.keras.layers.MaxPool2D(pool_size=2,strides=2))"
   ]
  },
  {
   "cell_type": "markdown",
   "metadata": {
    "id": "tmiEuvTunKfk"
   },
   "source": [
    "### Step 3 - Flattening"
   ]
  },
  {
   "cell_type": "code",
   "execution_count": 8,
   "metadata": {
    "id": "PuaXzPbtTij0"
   },
   "outputs": [],
   "source": [
    "cnn.add(tf.keras.layers.Flatten())"
   ]
  },
  {
   "cell_type": "markdown",
   "metadata": {
    "id": "dAoSECOm203v"
   },
   "source": [
    "### Step 4 - Full Connection"
   ]
  },
  {
   "cell_type": "code",
   "execution_count": 9,
   "metadata": {
    "id": "UMDQDu4XTtxT"
   },
   "outputs": [],
   "source": [
    "cnn.add(tf.keras.layers.Dense(units=128,activation='relu'))"
   ]
  },
  {
   "cell_type": "markdown",
   "metadata": {
    "id": "yTldFvbX28Na"
   },
   "source": [
    "### Step 5 - Output Layer"
   ]
  },
  {
   "cell_type": "code",
   "execution_count": 10,
   "metadata": {
    "id": "RmQAdzQbT2_g"
   },
   "outputs": [],
   "source": [
    "cnn.add(tf.keras.layers.Dense(units=1,activation='sigmoid'))"
   ]
  },
  {
   "cell_type": "markdown",
   "metadata": {
    "id": "D6XkI90snSDl"
   },
   "source": [
    "## Part 3 - Training the CNN"
   ]
  },
  {
   "cell_type": "markdown",
   "metadata": {
    "id": "vfrFQACEnc6i"
   },
   "source": [
    "### Compiling the CNN"
   ]
  },
  {
   "cell_type": "code",
   "execution_count": 11,
   "metadata": {
    "id": "oe3DFFvkVbYK"
   },
   "outputs": [],
   "source": [
    "cnn.compile(optimizer='adam',loss='binary_crossentropy',metrics=['accuracy'])"
   ]
  },
  {
   "cell_type": "markdown",
   "metadata": {
    "id": "ehS-v3MIpX2h"
   },
   "source": [
    "### Training the CNN on the Training set and evaluating it on the Test set"
   ]
  },
  {
   "cell_type": "code",
   "execution_count": 16,
   "metadata": {
    "id": "rVCI6HA9V9Qu"
   },
   "outputs": [
    {
     "name": "stdout",
     "output_type": "stream",
     "text": [
      "Epoch 1/30\n",
      "250/250 [==============================] - 70s 279ms/step - loss: 0.3259 - accuracy: 0.8587 - val_loss: 0.4517 - val_accuracy: 0.8085\n",
      "Epoch 2/30\n",
      "250/250 [==============================] - 70s 278ms/step - loss: 0.3147 - accuracy: 0.8606 - val_loss: 0.4323 - val_accuracy: 0.8175\n",
      "Epoch 3/30\n",
      "250/250 [==============================] - 74s 298ms/step - loss: 0.3039 - accuracy: 0.8666 - val_loss: 0.4591 - val_accuracy: 0.8200\n",
      "Epoch 4/30\n",
      "250/250 [==============================] - 73s 293ms/step - loss: 0.2979 - accuracy: 0.8687 - val_loss: 0.4723 - val_accuracy: 0.8005\n",
      "Epoch 5/30\n",
      "250/250 [==============================] - 70s 278ms/step - loss: 0.3013 - accuracy: 0.8709 - val_loss: 0.4737 - val_accuracy: 0.8035\n",
      "Epoch 6/30\n",
      "250/250 [==============================] - 70s 281ms/step - loss: 0.2851 - accuracy: 0.8777 - val_loss: 0.4588 - val_accuracy: 0.8085\n",
      "Epoch 7/30\n",
      "250/250 [==============================] - 70s 278ms/step - loss: 0.2729 - accuracy: 0.8841 - val_loss: 0.4999 - val_accuracy: 0.8005\n",
      "Epoch 8/30\n",
      "250/250 [==============================] - 70s 278ms/step - loss: 0.2591 - accuracy: 0.8920 - val_loss: 0.4874 - val_accuracy: 0.8120\n",
      "Epoch 9/30\n",
      "250/250 [==============================] - 70s 279ms/step - loss: 0.2583 - accuracy: 0.8870 - val_loss: 0.5167 - val_accuracy: 0.8130\n",
      "Epoch 10/30\n",
      "250/250 [==============================] - 69s 277ms/step - loss: 0.2501 - accuracy: 0.8955 - val_loss: 0.4836 - val_accuracy: 0.8175\n",
      "Epoch 11/30\n",
      "250/250 [==============================] - 70s 278ms/step - loss: 0.2447 - accuracy: 0.8970 - val_loss: 0.5031 - val_accuracy: 0.8190\n",
      "Epoch 12/30\n",
      "250/250 [==============================] - 71s 282ms/step - loss: 0.2438 - accuracy: 0.8988 - val_loss: 0.5224 - val_accuracy: 0.8060\n",
      "Epoch 13/30\n",
      "250/250 [==============================] - 69s 278ms/step - loss: 0.2444 - accuracy: 0.8979 - val_loss: 0.5122 - val_accuracy: 0.8070\n",
      "Epoch 14/30\n",
      "250/250 [==============================] - 71s 283ms/step - loss: 0.2160 - accuracy: 0.9082 - val_loss: 0.5545 - val_accuracy: 0.8005\n",
      "Epoch 15/30\n",
      "250/250 [==============================] - 69s 278ms/step - loss: 0.2142 - accuracy: 0.9112 - val_loss: 0.5769 - val_accuracy: 0.7880\n",
      "Epoch 16/30\n",
      "250/250 [==============================] - 84s 337ms/step - loss: 0.2164 - accuracy: 0.9086 - val_loss: 0.5846 - val_accuracy: 0.7965\n",
      "Epoch 17/30\n",
      "250/250 [==============================] - 73s 289ms/step - loss: 0.2001 - accuracy: 0.9195 - val_loss: 0.5721 - val_accuracy: 0.8050\n",
      "Epoch 18/30\n",
      "250/250 [==============================] - 74s 295ms/step - loss: 0.2083 - accuracy: 0.9122 - val_loss: 0.5664 - val_accuracy: 0.8025\n",
      "Epoch 19/30\n",
      "250/250 [==============================] - 77s 307ms/step - loss: 0.1962 - accuracy: 0.9209 - val_loss: 0.5993 - val_accuracy: 0.7950\n",
      "Epoch 20/30\n",
      "250/250 [==============================] - 93s 373ms/step - loss: 0.1898 - accuracy: 0.9229 - val_loss: 0.5676 - val_accuracy: 0.8145\n",
      "Epoch 21/30\n",
      "250/250 [==============================] - 91s 363ms/step - loss: 0.1934 - accuracy: 0.9204 - val_loss: 0.5725 - val_accuracy: 0.8115\n",
      "Epoch 22/30\n",
      "250/250 [==============================] - 73s 293ms/step - loss: 0.1788 - accuracy: 0.9305 - val_loss: 0.6430 - val_accuracy: 0.7940\n",
      "Epoch 23/30\n",
      "250/250 [==============================] - 73s 290ms/step - loss: 0.1665 - accuracy: 0.9354 - val_loss: 0.6547 - val_accuracy: 0.8035\n",
      "Epoch 24/30\n",
      "250/250 [==============================] - 78s 310ms/step - loss: 0.1703 - accuracy: 0.9342 - val_loss: 0.6241 - val_accuracy: 0.8090\n",
      "Epoch 25/30\n",
      "250/250 [==============================] - 74s 295ms/step - loss: 0.1646 - accuracy: 0.9349 - val_loss: 0.6421 - val_accuracy: 0.7905\n",
      "Epoch 26/30\n",
      "250/250 [==============================] - 75s 298ms/step - loss: 0.1595 - accuracy: 0.9375 - val_loss: 0.6360 - val_accuracy: 0.8050\n",
      "Epoch 27/30\n",
      "250/250 [==============================] - 75s 299ms/step - loss: 0.1635 - accuracy: 0.9339 - val_loss: 0.6505 - val_accuracy: 0.7955\n",
      "Epoch 28/30\n",
      "250/250 [==============================] - 86s 343ms/step - loss: 0.1491 - accuracy: 0.9442 - val_loss: 0.6538 - val_accuracy: 0.8035\n",
      "Epoch 29/30\n",
      "250/250 [==============================] - 72s 288ms/step - loss: 0.1519 - accuracy: 0.9399 - val_loss: 0.6606 - val_accuracy: 0.8075\n",
      "Epoch 30/30\n",
      "250/250 [==============================] - 72s 289ms/step - loss: 0.1412 - accuracy: 0.9444 - val_loss: 0.6274 - val_accuracy: 0.8035\n"
     ]
    },
    {
     "data": {
      "text/plain": [
       "<keras.callbacks.History at 0x2ec160dd760>"
      ]
     },
     "execution_count": 16,
     "metadata": {},
     "output_type": "execute_result"
    }
   ],
   "source": [
    "cnn.fit(x=training_set,validation_data=test_set,epochs=30)"
   ]
  },
  {
   "cell_type": "markdown",
   "metadata": {
    "id": "U3PZasO0006Z"
   },
   "source": [
    "## Part 4 - Making a single prediction"
   ]
  },
  {
   "cell_type": "code",
   "execution_count": 24,
   "metadata": {
    "id": "GPnNqkR2ZMPR"
   },
   "outputs": [
    {
     "name": "stdout",
     "output_type": "stream",
     "text": [
      "1/1 [==============================] - 0s 37ms/step\n"
     ]
    }
   ],
   "source": [
    "import numpy as np\n",
    "from tensorflow.keras.preprocessing.image import load_img, img_to_array\n",
    "from tensorflow.keras.models import load_model\n",
    "\n",
    "test_image = load_img('dataset/single_prediction/cat_or_dog_4.jpg', target_size=(64, 64))\n",
    "test_image = img_to_array(test_image)\n",
    "test_image = np.expand_dims(test_image, axis=0)\n",
    "result = cnn.predict(test_image / 255.0)\n",
    "if result[0][0] > 0.5:\n",
    "    prediction = 'dog'\n",
    "else:\n",
    "    prediction = 'cat'\n",
    "\n"
   ]
  },
  {
   "cell_type": "code",
   "execution_count": 25,
   "metadata": {
    "id": "cHtHapsbasKr"
   },
   "outputs": [
    {
     "name": "stdout",
     "output_type": "stream",
     "text": [
      "dog\n"
     ]
    }
   ],
   "source": [
    "print(prediction)"
   ]
  },
  {
   "cell_type": "code",
   "execution_count": null,
   "metadata": {},
   "outputs": [],
   "source": []
  }
 ],
 "metadata": {
  "colab": {
   "provenance": []
  },
  "kernelspec": {
   "display_name": "Python 3 (ipykernel)",
   "language": "python",
   "name": "python3"
  },
  "language_info": {
   "codemirror_mode": {
    "name": "ipython",
    "version": 3
   },
   "file_extension": ".py",
   "mimetype": "text/x-python",
   "name": "python",
   "nbconvert_exporter": "python",
   "pygments_lexer": "ipython3",
   "version": "3.9.12"
  }
 },
 "nbformat": 4,
 "nbformat_minor": 1
}
